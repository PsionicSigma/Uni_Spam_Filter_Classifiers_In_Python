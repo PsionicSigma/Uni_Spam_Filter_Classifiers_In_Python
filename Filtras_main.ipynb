{
 "cells": [
  {
   "cell_type": "markdown",
   "id": "6997e916-1cf5-4efc-b6c0-52a6d0ad4758",
   "metadata": {
    "jp-MarkdownHeadingCollapsed": true,
    "tags": []
   },
   "source": [
    "<h1>1. Duomenų nuskaitymas.</h1>\n",
    "\n",
    "Pirmam eksperimentui nuskaitomi Enron1 duomenys. Tai .txt formate išsaugotų laiškų rinkiniai, padalinti į gerus laiškus (ham) ir šlamšto laiškus (spam)."
   ]
  },
  {
   "cell_type": "code",
   "execution_count": null,
   "id": "bbfa1b5c-f46b-4121-bc0f-140728637ef1",
   "metadata": {
    "tags": []
   },
   "outputs": [],
   "source": [
    "import glob2 #duomenų nuskaitymui\n",
    "import pandas as pd #duomenų formatavimui\n",
    "import numpy as np #skaičiavimams ir formatavimui\n",
    "from nltk.corpus import stopwords #angliškų nereikšminių žodžių rinkinys\n",
    "from sklearn import metrics #(galbūt) reikiamos metrikos\n",
    "from sklearn.feature_extraction.text import CountVectorizer #duomenų formatavimui modeliams\n",
    "from sklearn.naive_bayes import MultinomialNB #bajeso modelis\n",
    "from sklearn.neighbors import KNeighborsClassifier #knn modelis\n",
    "from sklearn.svm import SVC #svc modelis?\n",
    "from sklearn.model_selection import cross_val_score #kryžminė patikra modelių optimizavimui\n",
    "from sklearn.pipeline import make_pipeline #?\n",
    "from sklearn.preprocessing import StandardScaler #?"
   ]
  },
  {
   "cell_type": "code",
   "execution_count": null,
   "id": "94fa828e-75b2-4620-9053-2157eb906ba1",
   "metadata": {},
   "outputs": [],
   "source": [
    "duomenys = pd.DataFrame(columns = (\"ID\", \"Tipas\", \"Tekstas\"))\n",
    "i = 0\n",
    "\n",
    "for failas in glob2.glob(\"./enron1/ham/*.txt\"):\n",
    "    try:\n",
    "        with open(failas, encoding = \"utf-8\") as atdaras_failas:\n",
    "            failo_tekstas = atdaras_failas.read().replace(\"\\n\", \" \")\n",
    "            i += 1\n",
    "            eilute = pd.DataFrame(data = [[i, \"ham\", failo_tekstas]], columns = (\"ID\", \"Tipas\", \"Tekstas\"))\n",
    "            duomenys = pd.concat([duomenys, eilute], axis = 0)\n",
    "    except:\n",
    "        None\n",
    "\n",
    "for failas in glob2.glob(\"./enron1/spam/*.txt\"):\n",
    "    vardas = failas\n",
    "    try:\n",
    "        with open(vardas, encoding = \"utf-8\") as atdaras_failas:\n",
    "            failo_tekstas = atdaras_failas.read().replace(\"\\n\", \" \")\n",
    "            i += 1\n",
    "            eilute = pd.DataFrame(data = [[i, \"spam\", failo_tekstas]], columns = (\"ID\", \"Tipas\", \"Tekstas\"))\n",
    "            duomenys = pd.concat([duomenys, eilute], axis = 0)\n",
    "    except:\n",
    "        None\n",
    "        "
   ]
  },
  {
   "cell_type": "code",
   "execution_count": null,
   "id": "55993e6c-fdcf-440c-a351-63130c64862d",
   "metadata": {},
   "outputs": [],
   "source": [
    "print(duomenys.shape)\n",
    "print(len(glob2.glob(\"./enron1/ham/*.txt\")))\n",
    "print(len(glob2.glob(\"./enron1/spam/*.txt\")))\n",
    "print(duomenys[\"Tipas\"].value_counts(normalize = True))\n",
    "print(duomenys[\"Tipas\"].value_counts(normalize = False))"
   ]
  },
  {
   "cell_type": "markdown",
   "id": "239f9b88-7524-4eb1-bc76-5f609a4d8ee3",
   "metadata": {
    "jp-MarkdownHeadingCollapsed": true,
    "tags": []
   },
   "source": [
    "<h1>2. Duomenų paskirstymas į treniravimo ir testavimo rinkinius, ir apdorojimas.</h1>\n",
    "\n",
    "Duomenys paskirstomi į treniravimo ir testavimo duomenis su 70%/30% santykiu. Iš jų pašalinami skirybos ženklai, suvienodinamos raidės. "
   ]
  },
  {
   "cell_type": "code",
   "execution_count": null,
   "id": "fa9da32a-5269-43e3-a278-4cf3b62a4897",
   "metadata": {},
   "outputs": [],
   "source": [
    "maisyti_duomenys = duomenys.sample(frac = 1, random_state = 333)\n",
    "\n",
    "indeksas = round(len(maisyti_duomenys)*0.7)\n",
    "\n",
    "treniravimo_duomenys = maisyti_duomenys[:indeksas].reset_index(drop = True)\n",
    "testavimo_duomenys = maisyti_duomenys[indeksas:].reset_index(drop = True)\n",
    "\n",
    "print(treniravimo_duomenys.shape)\n",
    "print(testavimo_duomenys.shape)\n",
    "\n",
    "nereiksminiai_z = stopwords.words(\"english\")"
   ]
  },
  {
   "cell_type": "code",
   "execution_count": null,
   "id": "e9cedfe0-22a1-460a-a684-f1105facc446",
   "metadata": {},
   "outputs": [],
   "source": [
    "def apdoroti_tekstus(ivestas_tekstas):\n",
    "    ivestas_tekstas = ivestas_tekstas.str.replace('\\W', ' ') #pašalinami skirybos ženklai\n",
    "    ivestas_tekstas = ivestas_tekstas.str.replace('\\n', ' ') #pašalinami newline\n",
    "    ivestas_tekstas = ivestas_tekstas.str.lower() #konvertuojama į visas mažasias raides\n",
    "    ivesti_zodziai = ivestas_tekstas.str.split() #tekstas suskaidomas į pavienių žodžių rinkinius\n",
    "    #ivesti_zodziai = nltk.word_tokenize(ivestas_tekstas)\n",
    "    \n",
    "    #išmetami skaičiai ir nereikšminiai žodžiai\n",
    "    tekstai_ = []\n",
    "    for tekstas in ivesti_zodziai:\n",
    "        tekstas_ = []\n",
    "        tekstas_ = [zodis for zodis in tekstas if not zodis.isnumeric() and zodis not in nereiksminiai_z]\n",
    "        tekstai_.append(tekstas_)\n",
    "\n",
    "    return tekstai_"
   ]
  },
  {
   "cell_type": "code",
   "execution_count": null,
   "id": "cdc4046e-6b98-4c42-931d-2dcf3bb0ee9a",
   "metadata": {},
   "outputs": [],
   "source": [
    "def apdoroti_teksta(ivestas_tekstas):\n",
    "    ivestas_tekstas = ivestas_tekstas.replace('\\W', ' ') #pašalinami skirybos ženklai\n",
    "    ivestas_tekstas = ivestas_tekstas.replace('\\n', ' ') #pašalinami newline\n",
    "    ivestas_tekstas = ivestas_tekstas.lower() #konvertuojama į visas mažasias raides\n",
    "    ivesti_zodziai = ivestas_tekstas.split() #tekstas suskaidomas į pavienių žodžių rinkinius\n",
    "    #ivesti_zodziai = nltk.word_tokenize(ivestas_tekstas)\n",
    "    \n",
    "    #išmetami skaičiai ir nereikšminiai žodžiai\n",
    "    tekstai_ = []\n",
    "    for tekstas in ivesti_zodziai:\n",
    "        tekstas_ = []\n",
    "        tekstas_ = [zodis for zodis in tekstas if not zodis.isnumeric() and zodis not in nereiksminiai_z]\n",
    "        tekstai_.append(tekstas_)\n",
    "\n",
    "    return tekstai_"
   ]
  },
  {
   "cell_type": "markdown",
   "id": "f9deb3d8-b315-457e-9438-9fb74ae86174",
   "metadata": {
    "jp-MarkdownHeadingCollapsed": true,
    "tags": []
   },
   "source": [
    "<h1>3. Žodyno sudarymas (rankiniu būdu) (vykdant kodą praleisti šitą skyrių, jis yra demonstracijai).</h1>\n",
    "\n",
    "Iš laiškų tekstuose esančių žodžių sudaromi unikalus žodynas, kuriame yra visi skirtingi žodžiai iš laiškų, ir žodyno lentelė, kurioje kiekvienam laiškui surašomi jame pasitaikiusių žodžių kiekiai"
   ]
  },
  {
   "cell_type": "code",
   "execution_count": null,
   "id": "85723002-7499-42ba-801c-be56e6ca1b0a",
   "metadata": {},
   "outputs": [],
   "source": [
    "zodynas = []\n",
    "\n",
    "for tekstas in treniravimo_duomenys[\"Tekstas\"]:\n",
    "    for zodis in tekstas:\n",
    "        if not zodis.isnumeric():\n",
    "            zodynas.append(zodis)\n",
    "\n",
    "zodynas = list(set(zodynas))"
   ]
  },
  {
   "cell_type": "code",
   "execution_count": null,
   "id": "3c92d2f5-4291-425f-80c9-e7f48e944846",
   "metadata": {},
   "outputs": [],
   "source": [
    "zodziu_sk_tekste = {unikalus_zodis: [0]*len(treniravimo_duomenys[\"Tekstas\"]) for unikalus_zodis in zodynas}\n",
    "\n",
    "for indeksas, tekstas in enumerate(treniravimo_duomenys[\"Tekstas\"]):\n",
    "    for zodis in tekstas:\n",
    "        zodziu_sk_tekste[zodis][indeksas] += 1"
   ]
  },
  {
   "cell_type": "code",
   "execution_count": null,
   "id": "718c1b7e-a3da-47d8-bb4c-12913648401a",
   "metadata": {
    "tags": []
   },
   "outputs": [],
   "source": [
    "zodziu_lentele = pd.DataFrame(zodziu_sk_tekste)\n",
    "zodziu_lentele.head()\n",
    "#zodziu_sk_tekste"
   ]
  },
  {
   "cell_type": "code",
   "execution_count": null,
   "id": "4d7a8920-78ed-4c3c-a916-0330b49cd6c4",
   "metadata": {},
   "outputs": [],
   "source": [
    "treniravimo_rinkinys = pd.concat([treniravimo_duomenys, zodziu_lentele], axis = 1)\n",
    "treniravimo_rinkinys.head()"
   ]
  },
  {
   "cell_type": "markdown",
   "id": "f806853f-7b1a-4cb4-a3c3-bb1ff5e3d7c0",
   "metadata": {
    "jp-MarkdownHeadingCollapsed": true,
    "tags": []
   },
   "source": [
    "<h1>4. Išankstiniai skaičiavimai.</h1>\n",
    "\n",
    "Kaikuriuos modeliams reikalingus skaičiavimus galima atlikti iš anksto"
   ]
  },
  {
   "cell_type": "markdown",
   "id": "b393c020-d761-4476-a3b7-28d77a899dec",
   "metadata": {
    "jp-MarkdownHeadingCollapsed": true,
    "tags": []
   },
   "source": [
    "<h2>Rankiniu būdu (vykdant kodą praleisti šitą dalį, ji yra demonstracijai).</h2>"
   ]
  },
  {
   "cell_type": "code",
   "execution_count": null,
   "id": "2f16fa50-4996-47da-97b5-c8ba4592806b",
   "metadata": {
    "tags": []
   },
   "outputs": [],
   "source": [
    "#atrenkami tikri ir šlamšto laiškai\n",
    "geri_laiskai = treniravimo_rinkinys[treniravimo_rinkinys[\"Tipas\"] == 'ham']\n",
    "slamsto_laiskai = treniravimo_rinkinys[treniravimo_rinkinys[\"Tipas\"] == 'spam']\n",
    "\n",
    "#P(tikras) ir P(šlamstas)\n",
    "p_tikras = len(geri_laiskai) / len(treniravimo_rinkinys)\n",
    "p_slamstas = len(slamsto_laiskai) / len(treniravimo_rinkinys)\n",
    "\n",
    "#Žodžių tikruose laiškuose kiekis\n",
    "tikru_laisku_ilgiai = geri_laiskai[\"Tekstas\"].apply(len)\n",
    "geru_zodziu_sk = tikru_laisku_ilgiai.sum()\n",
    "\n",
    "#Žodžių šlamšto laiškuose kiekis\n",
    "slamsto_laisku_ilgiai = slamsto_laiskai[\"Tekstas\"].apply(len)\n",
    "slamsto_zodziu_sk = slamsto_laisku_ilgiai.sum()\n",
    "\n",
    "#Žodyno ilgis (unikalių žodžių skaičius)\n",
    "unikaliu_sk = len(zodynas)\n",
    "\n",
    "#Žodžių pasirodymo tikimybės\n",
    "p_zodis_ = [sum(zodziu_lentele[zodis]) for zodis in zodziu_lentele]\n",
    "p_zodis = {zodis:sum(zodziu_lentele[zodis]/sum(p_zodis_)) for zodis in zodziu_lentele}    "
   ]
  },
  {
   "cell_type": "code",
   "execution_count": null,
   "id": "f7913804-5d89-408a-b633-6144c41b9fbd",
   "metadata": {
    "tags": []
   },
   "outputs": [],
   "source": [
    "tikri_zodziai = {unikalus_zodis:0 for unikalus_zodis in zodynas}\n",
    "slamsto_zodziai = {unikalus_zodis:0 for unikalus_zodis in zodynas}\n",
    "\n",
    "for zodis in zodynas:\n",
    "    zodzio_sk_kai_tikras = geri_laiskai[zodis].sum()\n",
    "    p_zodzio_kai_tikras = (zodzio_sk_kai_tikras + 1) / (geru_zodziu_sk + unikaliu_sk)\n",
    "    #p_zodzio_kai_tikras = (zodzio_sk_kai_tikras) / (geru_zodziu_sk)\n",
    "    tikri_zodziai[zodis] = p_zodzio_kai_tikras\n",
    "    \n",
    "    zodzio_sk_kai_slamstas = slamsto_laiskai[zodis].sum()\n",
    "    p_zodzio_kai_slamstas = (zodzio_sk_kai_slamstas + 1) / (slamsto_zodziu_sk + unikaliu_sk)\n",
    "    #p_zodzio_kai_slamstas = (zodzio_sk_kai_slamstas) / (slamsto_zodziu_sk)\n",
    "    slamsto_zodziai[zodis] = p_zodzio_kai_slamstas"
   ]
  },
  {
   "cell_type": "markdown",
   "id": "d5f3bdf4-7fc5-4ada-83c8-3a2577857033",
   "metadata": {
    "jp-MarkdownHeadingCollapsed": true,
    "tags": []
   },
   "source": [
    "<h2>Programiškai, su sklearn funkcijomis (naudoti šitą dalį).</h2>"
   ]
  },
  {
   "cell_type": "code",
   "execution_count": null,
   "id": "fcfd5bdd-6d9b-4862-a195-f9e11d0211a5",
   "metadata": {},
   "outputs": [],
   "source": [
    "X = treniravimo_duomenys\n",
    "X[\"Tekstas\"] = apdoroti_tekstus(X[\"Tekstas\"])\n",
    "X = X[\"Tekstas\"].str.join(sep = \" \")\n",
    "y = treniravimo_duomenys[\"Tipas\"]\n",
    "\n",
    "X_ = testavimo_duomenys\n",
    "X_[\"Tekstas\"] = apdoroti_tekstus(X_[\"Tekstas\"])\n",
    "X_ = X_[\"Tekstas\"].str.join(sep = \" \")\n",
    "y_zinomi = testavimo_duomenys[\"Tipas\"]"
   ]
  },
  {
   "cell_type": "code",
   "execution_count": null,
   "id": "e200518e-06a4-4b88-9e32-20721088429d",
   "metadata": {
    "tags": []
   },
   "outputs": [],
   "source": [
    "count_vec = CountVectorizer()\n",
    "zodziu_maisas = count_vec.fit_transform(X)\n",
    "zodziu_maisas = np.array(zodziu_maisas.todense())\n",
    "X = zodziu_maisas\n",
    "zodziu_maisas_ = count_vec.transform(X_)\n",
    "zodziu_maisas_ = np.array(zodziu_maisas_.todense())\n",
    "X_ = zodziu_maisas_"
   ]
  },
  {
   "cell_type": "markdown",
   "id": "f36cd059-9fb2-4431-ae9f-57c31b76ecf6",
   "metadata": {
    "jp-MarkdownHeadingCollapsed": true,
    "tags": []
   },
   "source": [
    "<h1>5. Preliminarūs modeliai.</h1>\n",
    "Su pagal nutylėjimą naudojamais parametrais"
   ]
  },
  {
   "cell_type": "markdown",
   "id": "834251f8-15d6-45dd-a007-c283b04b1e84",
   "metadata": {
    "jp-MarkdownHeadingCollapsed": true,
    "tags": []
   },
   "source": [
    "<h2>5.1. Bajeso variantas.</h2>"
   ]
  },
  {
   "cell_type": "markdown",
   "id": "ed5b7cae-8879-40ab-9218-2b7f5759942b",
   "metadata": {
    "jp-MarkdownHeadingCollapsed": true,
    "tags": []
   },
   "source": [
    "<h3>5.1.1 Bajeso rankinis variantas (vykdant kodą praleisti šitą skyrių, jis yra demonstracijai).</h3>"
   ]
  },
  {
   "cell_type": "code",
   "execution_count": null,
   "id": "3156c93b-4389-400e-a61d-ebf1fe1b2ec9",
   "metadata": {},
   "outputs": [],
   "source": [
    "#klasifikavimo funkcija Bajesui 2\n",
    "def klasifikuoti_Bajesu_2(laiskas):\n",
    "    laiskas = apdoroti_teksta(laiskas)\n",
    "    \n",
    "    p_tikras_kai_tekstas = p_tikras\n",
    "    p_slamstas_kai_tekstas = p_slamstas\n",
    "\n",
    "    for zodis in tekstas:\n",
    "        #print(zodis)\n",
    "        if zodis in tikri_zodziai:\n",
    "            p_tikras_kai_tekstas *= tikri_zodziai[zodis]\n",
    "            #print(p_tikras_kai_tekstas)\n",
    "\n",
    "        if zodis in slamsto_zodziai:\n",
    "            p_slamstas_kai_tekstas *= slamsto_zodziai[zodis]\n",
    "            #print(p_slamstas_kai_tekstas)\n",
    "    \n",
    "    if p_tikras_kai_tekstas > p_slamstas_kai_tekstas:\n",
    "        return 'ham'\n",
    "    elif p_tikras_kai_tekstas < p_slamstas_kai_tekstas:\n",
    "        return 'spam'\n",
    "    else:\n",
    "        return 'unknown'"
   ]
  },
  {
   "cell_type": "code",
   "execution_count": null,
   "id": "05897885-04c5-45e0-b58b-c81135ecb8e4",
   "metadata": {
    "tags": []
   },
   "outputs": [],
   "source": [
    "#testavimas\n",
    "B2_test = testavimo_duomenys\n",
    "B2_test[\"Klasifikavimas\"] = B2_test[\"Tekstas\"].apply(klasifikuoti_Bajesu_2)\n",
    "B2_test.head()"
   ]
  },
  {
   "cell_type": "code",
   "execution_count": null,
   "id": "0bdfc552-918e-4e74-9e8a-04e89566cb81",
   "metadata": {},
   "outputs": [],
   "source": [
    "B2_test[\"Klasifikavimas\"].value_counts(normalize = False)"
   ]
  },
  {
   "cell_type": "code",
   "execution_count": null,
   "id": "1f99998a-b2f8-46c3-bf05-fcd603bffc99",
   "metadata": {
    "tags": []
   },
   "outputs": [],
   "source": [
    "B2_test[\"Tekstas\"].head(1).apply(klasifikuoti_Bajesu_2)"
   ]
  },
  {
   "cell_type": "code",
   "execution_count": null,
   "id": "4dfce2c5-583b-4af8-8bc0-3834ec51c8d1",
   "metadata": {},
   "outputs": [],
   "source": [
    "teisingai = 0\n",
    "visi = B2_test.shape[0]\n",
    "\n",
    "for laiskas in testavimo_duomenys.iterrows():\n",
    "    laiskas_ = laiskas[1]\n",
    "    if laiskas_[\"Tipas\"] == laiskas_[\"Klasifikavimas\"]:\n",
    "        teisingai += 1\n",
    "\n",
    "print(teisingai/visi)"
   ]
  },
  {
   "cell_type": "markdown",
   "id": "8bb78dbb-81ee-4f9d-8824-a609597f2cfc",
   "metadata": {
    "jp-MarkdownHeadingCollapsed": true,
    "tags": []
   },
   "source": [
    "<h3>5.1.2 Bajeso Scikit-Learn MultinomialNB variantas (su tik dvejom klasem).</h3>"
   ]
  },
  {
   "cell_type": "code",
   "execution_count": null,
   "id": "19afdbd5-1165-4a06-90fe-0cf27bb57d07",
   "metadata": {},
   "outputs": [],
   "source": [
    "SK_Bayes = MultinomialNB(force_alpha = True)\n",
    "SK_Bayes.fit(X, y)"
   ]
  },
  {
   "cell_type": "code",
   "execution_count": null,
   "id": "fe03fdf6-7d47-4d9e-bf9f-0e6a8e499e72",
   "metadata": {
    "tags": []
   },
   "outputs": [],
   "source": [
    "y_bayes = SK_Bayes.predict(X_)"
   ]
  },
  {
   "cell_type": "code",
   "execution_count": null,
   "id": "63a7f39e-bd7a-4649-9413-20b7628086a2",
   "metadata": {
    "tags": []
   },
   "outputs": [],
   "source": [
    "n = 0\n",
    "l = len(y_bayes)\n",
    "\n",
    "for i in range(len(y_bayes)):\n",
    "    if y_zinomi[i] == y_bayes[i]:\n",
    "        n += 1\n",
    "\n",
    "print(n/l)\n",
    "print(metrics.accuracy_score(y_zinomi, y_bayes))\n",
    "print(metrics.f1_score(y_zinomi, y_bayes, average = \"macro\"))"
   ]
  },
  {
   "cell_type": "markdown",
   "id": "31642f7c-c66f-44f2-9ce0-c99787306103",
   "metadata": {
    "jp-MarkdownHeadingCollapsed": true,
    "tags": []
   },
   "source": [
    "<h2>5.2 kNN Scikit-Learn variantas.</h2>"
   ]
  },
  {
   "cell_type": "code",
   "execution_count": null,
   "id": "def25244-62cd-4645-9c65-909a7db70c22",
   "metadata": {},
   "outputs": [],
   "source": [
    "SK_knn = KNeighborsClassifier()\n",
    "SK_knn.fit(X, y)"
   ]
  },
  {
   "cell_type": "code",
   "execution_count": null,
   "id": "0ec3750b-1482-402c-b14d-8757e9feecca",
   "metadata": {},
   "outputs": [],
   "source": [
    "y_knn = SK_knn.predict(X_)"
   ]
  },
  {
   "cell_type": "code",
   "execution_count": null,
   "id": "1b62f42f-517e-4e80-8585-7f3ffcf4bad2",
   "metadata": {},
   "outputs": [],
   "source": [
    "n = 0\n",
    "l = len(y_knn)\n",
    "\n",
    "for i in range(len(y_knn)):\n",
    "    if y_zinomi[i] == y_knn[i]:\n",
    "        n += 1\n",
    "\n",
    "print(n/l)\n",
    "print(metrics.accuracy_score(y_zinomi, y_knn))\n",
    "print(metrics.f1_score(y_zinomi, y_knn, average = \"macro\"))"
   ]
  },
  {
   "cell_type": "markdown",
   "id": "6f4f027e-75c0-4282-b648-efd4d343644a",
   "metadata": {
    "jp-MarkdownHeadingCollapsed": true,
    "tags": []
   },
   "source": [
    "<h2>5.3 SVC Scikit-Learn variantas.</h2>"
   ]
  },
  {
   "cell_type": "code",
   "execution_count": null,
   "id": "dd860a2b-f030-4a34-be77-74d73d7b44e4",
   "metadata": {},
   "outputs": [],
   "source": [
    "SK_svc = SVC(random_state = 333)\n",
    "SK_svc.fit(X, y)"
   ]
  },
  {
   "cell_type": "code",
   "execution_count": null,
   "id": "a843b5f7-2ecc-47b0-8f19-3ce75e55d0ba",
   "metadata": {},
   "outputs": [],
   "source": [
    "y_svc = SK_svc.predict(X_)"
   ]
  },
  {
   "cell_type": "code",
   "execution_count": null,
   "id": "679b2e9b-e7f6-4124-be27-b96829d5d2a3",
   "metadata": {},
   "outputs": [],
   "source": [
    "n = 0\n",
    "l = len(y_svc)\n",
    "\n",
    "for i in range(len(y_svc)):\n",
    "    if y_zinomi[i] == y_svc[i]:\n",
    "        n += 1\n",
    "\n",
    "print(n/l)\n",
    "print(metrics.accuracy_score(y_zinomi, y_svc))\n",
    "print(metrics.f1_score(y_zinomi, y_svc, average = \"macro\"))"
   ]
  },
  {
   "cell_type": "markdown",
   "id": "19089c24-b027-48e4-bb70-3415133ec1db",
   "metadata": {
    "jp-MarkdownHeadingCollapsed": true,
    "tags": []
   },
   "source": [
    "<h1>6. Modeliu optimizavimas.</h1>\n",
    "\n",
    "Optimizuojami modeliai"
   ]
  },
  {
   "cell_type": "markdown",
   "id": "2a1e3f2d-86fe-4d98-b9da-63f718545301",
   "metadata": {
    "jp-MarkdownHeadingCollapsed": true,
    "tags": []
   },
   "source": [
    "<h2>6.1. Bajeso optimizavimas.</h2>"
   ]
  },
  {
   "cell_type": "markdown",
   "id": "ae7b9c69-4d18-499b-bb85-cdbf3a32b38d",
   "metadata": {
    "jp-MarkdownHeadingCollapsed": true,
    "tags": []
   },
   "source": [
    "<h3>Pirmas raundas</h3>"
   ]
  },
  {
   "cell_type": "code",
   "execution_count": null,
   "id": "148c7f38-f98f-4116-abc3-5848febd448e",
   "metadata": {
    "tags": []
   },
   "outputs": [],
   "source": [
    "#keičiama aplha (išlyginimo konstanta)\n",
    "alpha = [(i+1)/100 for i in range(100)]\n",
    "bayes_rez = {}\n",
    "for i in alpha:\n",
    "    SK_Bayes_ = MultinomialNB(alpha = i, force_alpha = True)\n",
    "    scores = cross_val_score(SK_Bayes_, X, y)\n",
    "    bayes_rez[i] = scores.mean()\n",
    "    print(str(i) + \": \" + str(scores.mean()))\n",
    "print(\"bajesas baigta\")"
   ]
  },
  {
   "cell_type": "code",
   "execution_count": null,
   "id": "c199bbed-60a8-478b-8ac5-015fc7ad5aa4",
   "metadata": {},
   "outputs": [],
   "source": [
    "tmp = pd.DataFrame.from_dict(data = bayes_rez, orient = 'index')\n",
    "tmp.loc[tmp[0] == tmp[0].max()]"
   ]
  },
  {
   "cell_type": "markdown",
   "id": "f6e04768-fbc5-4993-b68d-e666edb7c787",
   "metadata": {},
   "source": [
    "<h3>Galutinis MultinomialNB</h3>"
   ]
  },
  {
   "cell_type": "code",
   "execution_count": null,
   "id": "ccc7bd0b-1139-40a0-9679-173f5b4ce6b7",
   "metadata": {},
   "outputs": [],
   "source": [
    "SK_Bayes_ = MultinomialNB(alpha = 0.77, force_alpha = True) #su optimaliausiu parametru\n",
    "SK_Bayes_.fit(X, y)\n",
    "y_bayes_ = SK_Bayes_.predict(X_)\n",
    "metrics.accuracy_score(y_zinomi, y_bayes_)"
   ]
  },
  {
   "cell_type": "markdown",
   "id": "1d8ef938-c41a-4502-868b-1b3539c8b5b0",
   "metadata": {
    "jp-MarkdownHeadingCollapsed": true,
    "tags": []
   },
   "source": [
    "<h2>6.2. KNN optimizavimas.</h2>"
   ]
  },
  {
   "cell_type": "markdown",
   "id": "c33e8446-cb4b-4a47-8120-d2e2868ad668",
   "metadata": {
    "jp-MarkdownHeadingCollapsed": true,
    "tags": []
   },
   "source": [
    "<h3>Pirmas raundas</h3>"
   ]
  },
  {
   "cell_type": "code",
   "execution_count": null,
   "id": "95bc2217-b093-441d-884e-9f18d99873af",
   "metadata": {
    "tags": []
   },
   "outputs": [],
   "source": [
    "#keičiamas n_neighbors (vertinimo kaimynų skaičius)\n",
    "n_neighbors = [i+1 for i in range(10)]\n",
    "knn_rez_par1 = {}\n",
    "for i in n_neighbors:\n",
    "    SK_knn_ = KNeighborsClassifier(n_neighbors = i)\n",
    "    scores = cross_val_score(SK_knn_, X, y)\n",
    "    knn_rez_par1[i] = scores.mean()\n",
    "    print(str(i) + \": \" + str(scores.mean()))\n",
    "print(\"knn n_neighbors baigta\")"
   ]
  },
  {
   "cell_type": "code",
   "execution_count": null,
   "id": "1e0724fa-bb45-4926-b77a-76386bfdace8",
   "metadata": {},
   "outputs": [],
   "source": [
    "tmp = pd.DataFrame.from_dict(data = knn_rez_par1, orient = 'index')\n",
    "tmp.loc[tmp[0] == tmp[0].max()]"
   ]
  },
  {
   "cell_type": "code",
   "execution_count": null,
   "id": "9ee6726d-a04f-4d9e-90fd-f4a351e76305",
   "metadata": {
    "tags": []
   },
   "outputs": [],
   "source": [
    "#keičiamas weights (kaimynų svoriai)\n",
    "weights = ['uniform', 'distance']\n",
    "knn_rez_par2 = {}\n",
    "for i in weights:\n",
    "    SK_knn_ = KNeighborsClassifier(weights = i)\n",
    "    scores = cross_val_score(SK_knn_, X, y)\n",
    "    knn_rez_par2[i] = scores.mean()\n",
    "    print(str(i) + \": \" + str(scores.mean()))\n",
    "print(\"knn weights baigta\")"
   ]
  },
  {
   "cell_type": "code",
   "execution_count": null,
   "id": "4422b6a4-e7ad-4931-a997-90e55b161f2f",
   "metadata": {},
   "outputs": [],
   "source": [
    "tmp = pd.DataFrame.from_dict(data = knn_rez_par2, orient = 'index')\n",
    "tmp.loc[tmp[0] == tmp[0].max()]"
   ]
  },
  {
   "cell_type": "code",
   "execution_count": null,
   "id": "be6d9210-8646-4ef4-904f-048913ccb8d5",
   "metadata": {
    "tags": []
   },
   "outputs": [],
   "source": [
    "#keičiamas algorithm (kaimynų paieškos algoritmai)\n",
    "algorithm = ['auto', 'ball_tree', 'kd_tree', 'brute']\n",
    "knn_rez_par3 = {}\n",
    "for i in algorithm:\n",
    "    SK_knn_ = KNeighborsClassifier(algorithm = i)\n",
    "    scores = cross_val_score(SK_knn_, X, y)\n",
    "    knn_rez_par3[i] = scores.mean()\n",
    "    print(str(i) + \": \" + str(scores.mean()))\n",
    "print(\"knn algorithm baigta\")"
   ]
  },
  {
   "cell_type": "code",
   "execution_count": null,
   "id": "d400921a-2efd-417f-8cbf-20ba32127b6e",
   "metadata": {},
   "outputs": [],
   "source": [
    "tmp = pd.DataFrame.from_dict(data = knn_rez_par3, orient = 'index')\n",
    "tmp.loc[tmp[0] == tmp[0].max()]"
   ]
  },
  {
   "cell_type": "code",
   "execution_count": null,
   "id": "afd98108-0cd0-4814-9158-b4318f43b083",
   "metadata": {
    "tags": []
   },
   "outputs": [],
   "source": [
    "#keičiamas metric (atstumų apskaičiavimo algoritmai)\n",
    "metric = ['cityblock', 'cosine', 'euclidean', 'haversine', 'l1', 'l2', 'manhattan', 'nan_euclidean']\n",
    "knn_rez_par4 = {}\n",
    "for i in metric:\n",
    "    SK_knn_ = KNeighborsClassifier(metric = i)\n",
    "    scores = cross_val_score(SK_knn_, X, y)\n",
    "    knn_rez_par4[i] = scores.mean()\n",
    "    print(str(i) + \": \" + str(scores.mean()))\n",
    "print(\"knn metric baigta\")"
   ]
  },
  {
   "cell_type": "code",
   "execution_count": null,
   "id": "e05a6075-5264-4845-8984-49c83e8643b2",
   "metadata": {},
   "outputs": [],
   "source": [
    "tmp = pd.DataFrame.from_dict(data = knn_rez_par4, orient = 'index')\n",
    "tmp.loc[tmp[0] == tmp[0].max()]"
   ]
  },
  {
   "cell_type": "markdown",
   "id": "86881903-4b9f-424e-97fd-8ad66bc4868d",
   "metadata": {
    "jp-MarkdownHeadingCollapsed": true,
    "tags": []
   },
   "source": [
    "<h3>Antras raundas</h3>"
   ]
  },
  {
   "cell_type": "code",
   "execution_count": null,
   "id": "5ae03eae-0083-40b7-86f4-a7fe997c81a5",
   "metadata": {
    "tags": []
   },
   "outputs": [],
   "source": [
    "#keičiamas n_neighbors (vertinimo kaimynų skaičius)\n",
    "n_neighbors = [i+1 for i in range(10)]\n",
    "knn_rez_par1 = {}\n",
    "for i in n_neighbors:\n",
    "    SK_knn_ = KNeighborsClassifier(n_neighbors = i, metric = 'cosine')\n",
    "    scores = cross_val_score(SK_knn_, X, y)\n",
    "    knn_rez_par1[i] = scores.mean()\n",
    "    print(str(i) + \": \" + str(scores.mean()))\n",
    "print(\"knn n_neighbors baigta\")"
   ]
  },
  {
   "cell_type": "code",
   "execution_count": null,
   "id": "f3c69102-2585-4a16-985c-2f10204661a8",
   "metadata": {},
   "outputs": [],
   "source": [
    "tmp = pd.DataFrame.from_dict(data = knn_rez_par1, orient = 'index')\n",
    "tmp.loc[tmp[0] == tmp[0].max()]"
   ]
  },
  {
   "cell_type": "code",
   "execution_count": null,
   "id": "6b61bfa9-80d2-489d-a906-d93ffb303e24",
   "metadata": {
    "tags": []
   },
   "outputs": [],
   "source": [
    "#keičiamas weights (kaimynų svoriai)\n",
    "weights = ['uniform', 'distance']\n",
    "knn_rez_par2 = {}\n",
    "for i in weights:\n",
    "    SK_knn_ = KNeighborsClassifier(weights = i, metric = 'cosine')\n",
    "    scores = cross_val_score(SK_knn_, X, y)\n",
    "    knn_rez_par2[i] = scores.mean()\n",
    "    print(str(i) + \": \" + str(scores.mean()))\n",
    "print(\"knn weights baigta\")"
   ]
  },
  {
   "cell_type": "code",
   "execution_count": null,
   "id": "50566085-4700-4f34-adb2-9b7e5c1117b6",
   "metadata": {},
   "outputs": [],
   "source": [
    "tmp = pd.DataFrame.from_dict(data = knn_rez_par2, orient = 'index')\n",
    "tmp.loc[tmp[0] == tmp[0].max()]"
   ]
  },
  {
   "cell_type": "code",
   "execution_count": null,
   "id": "8a4a777e-5655-41fa-98b9-9a7d821d2bdb",
   "metadata": {
    "tags": []
   },
   "outputs": [],
   "source": [
    "#keičiamas algorithm (kaimynų paieškos algoritmai)\n",
    "algorithm = ['auto', 'brute']\n",
    "knn_rez_par3 = {}\n",
    "for i in algorithm:\n",
    "    SK_knn_ = KNeighborsClassifier(algorithm = i, metric = 'cosine')\n",
    "    scores = cross_val_score(SK_knn_, X, y)\n",
    "    knn_rez_par3[i] = scores.mean()\n",
    "    print(str(i) + \": \" + str(scores.mean()))\n",
    "print(\"knn algorithm baigta\")"
   ]
  },
  {
   "cell_type": "code",
   "execution_count": null,
   "id": "cc218e9b-1108-4601-b433-4615c879a92b",
   "metadata": {},
   "outputs": [],
   "source": [
    "tmp = pd.DataFrame.from_dict(data = knn_rez_par3, orient = 'index')\n",
    "tmp.loc[tmp[0] == tmp[0].max()]"
   ]
  },
  {
   "cell_type": "markdown",
   "id": "744d2a39-db73-454f-a704-b935c2f2b338",
   "metadata": {
    "jp-MarkdownHeadingCollapsed": true,
    "tags": []
   },
   "source": [
    "<h3>Trečias raundas</h3>"
   ]
  },
  {
   "cell_type": "code",
   "execution_count": null,
   "id": "418087af-f586-42f3-a37c-c62968b09a93",
   "metadata": {
    "tags": []
   },
   "outputs": [],
   "source": [
    "#keičiamas weights (kaimynų svoriai)\n",
    "weights = ['uniform', 'distance']\n",
    "knn_rez_par2 = {}\n",
    "for i in weights:\n",
    "    SK_knn_ = KNeighborsClassifier(n_neighbors = 1, weights = i, metric = 'cosine')\n",
    "    scores = cross_val_score(SK_knn_, X, y)\n",
    "    knn_rez_par2[i] = scores.mean()\n",
    "    print(str(i) + \": \" + str(scores.mean()))\n",
    "print(\"knn weights baigta\")"
   ]
  },
  {
   "cell_type": "code",
   "execution_count": null,
   "id": "930036e6-2c19-4e2d-83e4-13a3927b7720",
   "metadata": {},
   "outputs": [],
   "source": [
    "tmp = pd.DataFrame.from_dict(data = knn_rez_par2, orient = 'index')\n",
    "tmp.loc[tmp[0] == tmp[0].max()]"
   ]
  },
  {
   "cell_type": "code",
   "execution_count": null,
   "id": "ea7be536-addf-4fa3-a401-979aeacf3253",
   "metadata": {
    "tags": []
   },
   "outputs": [],
   "source": [
    "#keičiamas algorithm (kaimynų paieškos algoritmai)\n",
    "algorithm = ['auto', 'brute']\n",
    "knn_rez_par3 = {}\n",
    "for i in algorithm:\n",
    "    SK_knn_ = KNeighborsClassifier(n_neighbors = 1, algorithm = i, metric = 'cosine')\n",
    "    scores = cross_val_score(SK_knn_, X, y)\n",
    "    knn_rez_par3[i] = scores.mean()\n",
    "    print(str(i) + \": \" + str(scores.mean()))\n",
    "print(\"knn algorithm baigta\")"
   ]
  },
  {
   "cell_type": "code",
   "execution_count": null,
   "id": "1801fc95-ff4f-4f31-8807-eec0980ce277",
   "metadata": {},
   "outputs": [],
   "source": [
    "tmp = pd.DataFrame.from_dict(data = knn_rez_par3, orient = 'index')\n",
    "tmp.loc[tmp[0] == tmp[0].max()]"
   ]
  },
  {
   "cell_type": "markdown",
   "id": "c091e2e2-7ddf-449b-a9b7-f62354e69047",
   "metadata": {
    "jp-MarkdownHeadingCollapsed": true,
    "tags": []
   },
   "source": [
    "<h3>Ketvirtas raundas</h3>"
   ]
  },
  {
   "cell_type": "code",
   "execution_count": null,
   "id": "d46af80e-414f-4e21-9216-546f607bd4a1",
   "metadata": {},
   "outputs": [],
   "source": [
    "#keičiamas algorithm (kaimynų paieškos algoritmai)\n",
    "knn_rez_par23 = {}\n",
    "for i in algorithm:\n",
    "    for j in weights:\n",
    "        SK_knn_ = KNeighborsClassifier(n_neighbors = 1, algorithm = i, weights = j, metric = 'cosine')\n",
    "        scores = cross_val_score(SK_knn_, X, y)\n",
    "        knn_rez_par23[i + \"+\" + j] = scores.mean()\n",
    "print(\"knn baigta\")"
   ]
  },
  {
   "cell_type": "code",
   "execution_count": null,
   "id": "c70ba5cb-7f8e-4bc8-8d09-835f96343cd1",
   "metadata": {},
   "outputs": [],
   "source": [
    "tmp = pd.DataFrame.from_dict(data = knn_rez_par23, orient = 'index')\n",
    "tmp.loc[tmp[0] == tmp[0].max()]"
   ]
  },
  {
   "cell_type": "markdown",
   "id": "e2f6e3d8-937e-425f-84f2-044398f01688",
   "metadata": {},
   "source": [
    "<h3>Galutinis kNN</h3>"
   ]
  },
  {
   "cell_type": "code",
   "execution_count": null,
   "id": "178bde91-5f17-411a-a770-40b42af88afa",
   "metadata": {},
   "outputs": [],
   "source": [
    "SK_knn_ = KNeighborsClassifier(n_neighbors = 1, algorithm = 'brute', weights = 'distance', metric = 'cosine')\n",
    "SK_knn_.fit(X, y)\n",
    "y_knn_ = SK_knn_.predict(X_)\n",
    "metrics.accuracy_score(y_zinomi, y_knn_)"
   ]
  },
  {
   "cell_type": "markdown",
   "id": "e63df5b7-5b7a-4f8a-b023-0c4354ea8e11",
   "metadata": {
    "jp-MarkdownHeadingCollapsed": true,
    "tags": []
   },
   "source": [
    "<h2>6.3. SVC optimizavimas.</h2>"
   ]
  },
  {
   "cell_type": "markdown",
   "id": "8618808f-1e29-4ca5-a2d0-61998f79c5e1",
   "metadata": {
    "jp-MarkdownHeadingCollapsed": true,
    "tags": []
   },
   "source": [
    "<h3>Pirmas raundas</h3>"
   ]
  },
  {
   "cell_type": "code",
   "execution_count": null,
   "id": "544bc085-da2b-4385-a508-598968d295fe",
   "metadata": {
    "tags": []
   },
   "outputs": [],
   "source": [
    "#keičiamas c (išlyginimo koeficientas) LABAI ILGAI GALVOJA, 0.01-1 vis dideja, reikia kitokio intervalo?\n",
    "c = [1.3+(i+1)/100 for i in range(40)]\n",
    "svc_rez_par1 = {}\n",
    "for i in c:\n",
    "    SK_svc_ = SVC(C = i, random_state = 333)\n",
    "    scores = cross_val_score(SK_svc_, X, y, cv = 2)\n",
    "    svc_rez_par1[i] = scores.mean()\n",
    "    print(str(i) + \": \" + str(scores.mean()))\n",
    "print(\"svc C baigta\")"
   ]
  },
  {
   "cell_type": "code",
   "execution_count": null,
   "id": "b1c00381-847a-448b-a50a-f256eb2753a3",
   "metadata": {},
   "outputs": [],
   "source": [
    "tmp = pd.DataFrame.from_dict(data = svc_rez_par1, orient = 'index')\n",
    "tmp.loc[tmp[0] == tmp[0].max()]"
   ]
  },
  {
   "cell_type": "code",
   "execution_count": null,
   "id": "c1ce32e3-6d1d-4949-aac5-a4b1a81d6cf8",
   "metadata": {
    "tags": []
   },
   "outputs": [],
   "source": [
    "#keičiamas kernel (funkcijos branduolys)\n",
    "kernel = ['linear', 'poly', 'rbf', 'sigmoid']\n",
    "svc_rez_par2 = {}\n",
    "for i in kernel:\n",
    "    SK_svc_ = SVC(kernel = i, random_state = 333)\n",
    "    scores = cross_val_score(SK_svc_, X, y)\n",
    "    svc_rez_par2[i] = scores.mean()\n",
    "    print(str(i) + \": \" + str(scores.mean()))\n",
    "print(\"svc kernel baigta\")"
   ]
  },
  {
   "cell_type": "code",
   "execution_count": null,
   "id": "5e305c18-1b02-48cc-9254-f8acb291da77",
   "metadata": {},
   "outputs": [],
   "source": [
    "tmp = pd.DataFrame.from_dict(data = svc_rez_par2, orient = 'index')\n",
    "tmp.loc[tmp[0] == tmp[0].max()]"
   ]
  },
  {
   "cell_type": "code",
   "execution_count": null,
   "id": "e34b3453-c9d9-47a9-8e80-de7cc4c651e7",
   "metadata": {
    "tags": []
   },
   "outputs": [],
   "source": [
    "#keičiamas shrinking (suspaudimas?)\n",
    "shrinking = [True, False]\n",
    "svc_rez_par3 = {}\n",
    "for i in shrinking:\n",
    "    SK_svc_ = SVC(shrinking = i, random_state = 333)\n",
    "    scores = cross_val_score(SK_svc_, X, y)\n",
    "    svc_rez_par3[i] = scores.mean()\n",
    "    print(str(i) + \": \" + str(scores.mean()))\n",
    "print(\"svc shrinking baigta\")"
   ]
  },
  {
   "cell_type": "code",
   "execution_count": null,
   "id": "54b62289-4ed4-4a51-b3da-7f7987488c17",
   "metadata": {},
   "outputs": [],
   "source": [
    "tmp = pd.DataFrame.from_dict(data = svc_rez_par3, orient = 'index')\n",
    "tmp.loc[tmp[0] == tmp[0].max()]"
   ]
  },
  {
   "cell_type": "code",
   "execution_count": null,
   "id": "58be0105-9015-48a7-acb7-001df80fe111",
   "metadata": {
    "tags": []
   },
   "outputs": [],
   "source": [
    "#keičiamas probability (ar apskaičiuoti tikimybes (gali būti lėtas))\n",
    "probability = [True, False]\n",
    "svc_rez_par4 = {}\n",
    "for i in probability:\n",
    "    SK_svc_ = SVC(probability = i, random_state = 333)\n",
    "    scores = cross_val_score(SK_svc_, X, y, cv = 2)\n",
    "    svc_rez_par4[i] = scores.mean()\n",
    "    print(str(i) + \": \" + str(scores.mean()))\n",
    "print(\"svc probability baigta\")"
   ]
  },
  {
   "cell_type": "code",
   "execution_count": null,
   "id": "7723b545-52df-4ae3-acb7-895aa91ea1a4",
   "metadata": {},
   "outputs": [],
   "source": [
    "tmp = pd.DataFrame.from_dict(data = svc_rez_par4, orient = 'index')\n",
    "tmp.loc[tmp[0] == tmp[0].max()]"
   ]
  },
  {
   "cell_type": "code",
   "execution_count": null,
   "id": "feff648b-2475-4b0a-b6b4-657e78d51915",
   "metadata": {
    "tags": []
   },
   "outputs": [],
   "source": [
    "#keičiamas tol (mastymo slenkstis)\n",
    "tol = [(i+1)/1000 for i in range(100)]\n",
    "svc_rez_par5 = {}\n",
    "for i in tol:\n",
    "    SK_svc_ = SVC(tol = i, random_state = 333)\n",
    "    scores = cross_val_score(SK_svc_, X, y, cv = 2)\n",
    "    svc_rez_par5[i] = scores.mean()\n",
    "    print(str(i) + \": \" + str(scores.mean()))\n",
    "print(\"svc tol baigta\")"
   ]
  },
  {
   "cell_type": "code",
   "execution_count": null,
   "id": "47b2a7ab-0d81-467c-a15b-9d6a6d278447",
   "metadata": {},
   "outputs": [],
   "source": [
    "tmp = pd.DataFrame.from_dict(data = svc_rez_par5, orient = 'index')\n",
    "tmp.loc[tmp[0] == tmp[0].max()]"
   ]
  },
  {
   "cell_type": "code",
   "execution_count": null,
   "id": "63f3fa38-99ae-4c65-8d4a-2ea35faebdc6",
   "metadata": {
    "tags": []
   },
   "outputs": [],
   "source": [
    "#keičiamas class_weight (klasių svoriai)\n",
    "class_weight = [None, 'balanced']\n",
    "svc_rez_par7 = {}\n",
    "for i in class_weight:\n",
    "    SK_svc_ = SVC(class_weight = i, random_state = 333)\n",
    "    scores = cross_val_score(SK_svc_, X, y)\n",
    "    svc_rez_par7[i] = scores.mean()\n",
    "    print(str(i) + \": \" + str(scores.mean()))\n",
    "print(\"svc class_weight baigta\")"
   ]
  },
  {
   "cell_type": "code",
   "execution_count": null,
   "id": "65d7b4eb-6b72-4102-977a-834302adfd4a",
   "metadata": {},
   "outputs": [],
   "source": [
    "tmp = pd.DataFrame.from_dict(data = svc_rez_par7, orient = 'index')\n",
    "tmp.loc[tmp[0] == tmp[0].max()]"
   ]
  },
  {
   "cell_type": "code",
   "execution_count": null,
   "id": "a499d49c-11a8-4c73-8d00-4f13c553647e",
   "metadata": {
    "tags": []
   },
   "outputs": [],
   "source": [
    "#keičiamas max_iter (maksimalus paieškos iteracijų skaičius (-1 – neribota))\n",
    "#max_iter = [1500, 2000, 2500, 3000, 3500, 4000, 4500, 5000, 5500, 6000, 6500, 7000, 7500, -1]\n",
    "max_iter = [100, 200, 300, 400, 500, 600, 700, 800, 900, 1000, 1100, 1200, 1300, 1400, 1500, -1]\n",
    "svc_rez_par8 = {}\n",
    "for i in max_iter:\n",
    "    SK_svc_ = SVC(max_iter = i, random_state = 333)\n",
    "    scores = cross_val_score(SK_svc_, X, y, cv = 2)\n",
    "    svc_rez_par8[i] = scores.mean()\n",
    "    print(str(i) + \": \" + str(scores.mean()))\n",
    "print(\"svc max_iter baigta\")"
   ]
  },
  {
   "cell_type": "code",
   "execution_count": null,
   "id": "63ec592e-91fb-4cc6-b9ba-04aa6a1447aa",
   "metadata": {},
   "outputs": [],
   "source": [
    "tmp = pd.DataFrame.from_dict(data = svc_rez_par8, orient = 'index')\n",
    "tmp.loc[tmp[0] == tmp[0].max()]"
   ]
  },
  {
   "cell_type": "code",
   "execution_count": null,
   "id": "41bb685f-bfc0-459f-8c76-2bfd8171bde7",
   "metadata": {},
   "outputs": [],
   "source": [
    "#keičiamas decision_function_shape (palyginimo forma)\n",
    "decision_function_shape = ['ovo', 'ovr']\n",
    "svc_rez_par9 = {}\n",
    "for i in decision_function_shape:\n",
    "    SK_svc_ = SVC(decision_function_shape = i, random_state = 333)\n",
    "    scores = cross_val_score(SK_svc_, X, y)\n",
    "    svc_rez_par9[i] = scores.mean()\n",
    "    print(str(i) + \": \" + str(scores.mean()))\n",
    "print(\"svc decision_function_shape baigta\")"
   ]
  },
  {
   "cell_type": "code",
   "execution_count": null,
   "id": "80a7c34a-61e7-44b9-bb32-df252fff275f",
   "metadata": {},
   "outputs": [],
   "source": [
    "tmp = pd.DataFrame.from_dict(data = svc_rez_par9, orient = 'index')\n",
    "tmp.loc[tmp[0] == tmp[0].max()]"
   ]
  },
  {
   "cell_type": "code",
   "execution_count": null,
   "id": "057d5eb5-d19f-49d3-92c8-2fcabac50a75",
   "metadata": {},
   "outputs": [],
   "source": [
    "#keičiamas break_ties (jei decision_function_shape = 'ovr' ir klasių sk. > 2, ar pamiršti atmestus kandidatus (intensyviai naudoja resursus))\n",
    "break_ties = [True, False]\n",
    "svc_rez_par10 = {}\n",
    "for i in break_ties:\n",
    "    SK_svc_ = SVC(random_state = 333)\n",
    "    scores = cross_val_score(SK_svc_, X, y)\n",
    "    svc_rez_par10[i] = scores.mean()\n",
    "    print(str(i) + \": \" + str(scores.mean()))\n",
    "print(\"svc break_ties baigta\")"
   ]
  },
  {
   "cell_type": "code",
   "execution_count": null,
   "id": "08ef5895-3216-4021-a54e-2f2cdb9e716d",
   "metadata": {},
   "outputs": [],
   "source": [
    "tmp = pd.DataFrame.from_dict(data = svc_rez_par10, orient = 'index')\n",
    "tmp.loc[tmp[0] == tmp[0].max()]"
   ]
  },
  {
   "cell_type": "markdown",
   "id": "d2c077e9-ec7b-4aa4-be31-e67db70fb0cb",
   "metadata": {
    "jp-MarkdownHeadingCollapsed": true,
    "tags": []
   },
   "source": [
    "<h3>Antras raundas</h3>\n",
    "C = 1,63"
   ]
  },
  {
   "cell_type": "code",
   "execution_count": null,
   "id": "1f5d03dd-f423-4ad4-b362-f03cacd246b9",
   "metadata": {
    "tags": []
   },
   "outputs": [],
   "source": [
    "#keičiamas kernel (funkcijos branduolys)\n",
    "kernel = ['linear', 'poly', 'rbf', 'sigmoid']\n",
    "svc_rez_par2 = {}\n",
    "for i in kernel:\n",
    "    SK_svc_ = SVC(C = 1.63, kernel = i, random_state = 333)\n",
    "    scores = cross_val_score(SK_svc_, X, y)\n",
    "    svc_rez_par2[i] = scores.mean()\n",
    "    print(str(i) + \": \" + str(scores.mean()))\n",
    "print(\"svc kernel baigta\")"
   ]
  },
  {
   "cell_type": "code",
   "execution_count": null,
   "id": "c6576091-33f2-488a-ba0c-d96e6da23926",
   "metadata": {},
   "outputs": [],
   "source": [
    "tmp = pd.DataFrame.from_dict(data = svc_rez_par2, orient = 'index')\n",
    "tmp.loc[tmp[0] == tmp[0].max()]"
   ]
  },
  {
   "cell_type": "code",
   "execution_count": null,
   "id": "542d965f-d08c-426d-b911-675c5ca1b72b",
   "metadata": {
    "tags": []
   },
   "outputs": [],
   "source": [
    "#keičiamas shrinking (suspaudimas?)\n",
    "shrinking = [True, False]\n",
    "svc_rez_par3 = {}\n",
    "for i in shrinking:\n",
    "    SK_svc_ = SVC(C = 1.63, shrinking = i, random_state = 333)\n",
    "    scores = cross_val_score(SK_svc_, X, y)\n",
    "    svc_rez_par3[i] = scores.mean()\n",
    "    print(str(i) + \": \" + str(scores.mean()))\n",
    "print(\"svc shrinking baigta\")"
   ]
  },
  {
   "cell_type": "code",
   "execution_count": null,
   "id": "ac53466c-971e-4c43-8ed0-f4cdd805b26b",
   "metadata": {},
   "outputs": [],
   "source": [
    "tmp = pd.DataFrame.from_dict(data = svc_rez_par3, orient = 'index')\n",
    "tmp.loc[tmp[0] == tmp[0].max()]"
   ]
  },
  {
   "cell_type": "code",
   "execution_count": null,
   "id": "97a9f60c-8487-45c6-bc98-bc722107cb27",
   "metadata": {
    "tags": []
   },
   "outputs": [],
   "source": [
    "#keičiamas probability (ar apskaičiuoti tikimybes (gali būti lėtas))\n",
    "probability = [True, False]\n",
    "svc_rez_par4 = {}\n",
    "for i in probability:\n",
    "    SK_svc_ = SVC(C = 1.63, probability = i, random_state = 333)\n",
    "    scores = cross_val_score(SK_svc_, X, y, cv = 2)\n",
    "    svc_rez_par4[i] = scores.mean()\n",
    "    print(str(i) + \": \" + str(scores.mean()))\n",
    "print(\"svc probability baigta\")"
   ]
  },
  {
   "cell_type": "code",
   "execution_count": null,
   "id": "5021eba2-092d-4721-ac5e-73b9da937e41",
   "metadata": {},
   "outputs": [],
   "source": [
    "tmp = pd.DataFrame.from_dict(data = svc_rez_par4, orient = 'index')\n",
    "tmp.loc[tmp[0] == tmp[0].max()]"
   ]
  },
  {
   "cell_type": "code",
   "execution_count": null,
   "id": "180e29ad-20f8-4dfd-87b7-65ed6f64d404",
   "metadata": {
    "tags": []
   },
   "outputs": [],
   "source": [
    "#keičiamas tol (mastymo slenkstis)\n",
    "tol = [(i+1)/1000 for i in range(100)]\n",
    "svc_rez_par5 = {}\n",
    "for i in tol:\n",
    "    SK_svc_ = SVC(C = 1.63, tol = i, random_state = 333)\n",
    "    scores = cross_val_score(SK_svc_, X, y, cv = 2)\n",
    "    svc_rez_par5[i] = scores.mean()\n",
    "    print(str(i) + \": \" + str(scores.mean()))\n",
    "print(\"svc tol baigta\")"
   ]
  },
  {
   "cell_type": "code",
   "execution_count": null,
   "id": "6e177abd-6c34-4e61-b2f2-5a9180c86109",
   "metadata": {},
   "outputs": [],
   "source": [
    "tmp = pd.DataFrame.from_dict(data = svc_rez_par5, orient = 'index')\n",
    "tmp.loc[tmp[0] == tmp[0].max()]"
   ]
  },
  {
   "cell_type": "code",
   "execution_count": null,
   "id": "93da3b49-a19c-4234-866e-b6da53cb021b",
   "metadata": {
    "tags": []
   },
   "outputs": [],
   "source": [
    "#keičiamas class_weight (klasių svoriai)\n",
    "class_weight = [None, 'balanced']\n",
    "svc_rez_par7 = {}\n",
    "for i in class_weight:\n",
    "    SK_svc_ = SVC(C = 1.63, class_weight = i, random_state = 333)\n",
    "    scores = cross_val_score(SK_svc_, X, y)\n",
    "    svc_rez_par7[i] = scores.mean()\n",
    "    print(str(i) + \": \" + str(scores.mean()))\n",
    "print(\"svc class_weight baigta\")"
   ]
  },
  {
   "cell_type": "code",
   "execution_count": null,
   "id": "20832c2b-e03b-4f1d-83c6-0bf843b27d2b",
   "metadata": {},
   "outputs": [],
   "source": [
    "tmp = pd.DataFrame.from_dict(data = svc_rez_par7, orient = 'index')\n",
    "tmp.loc[tmp[0] == tmp[0].max()]"
   ]
  },
  {
   "cell_type": "code",
   "execution_count": null,
   "id": "cf3fa503-c106-4810-aca5-c063174bac62",
   "metadata": {
    "tags": []
   },
   "outputs": [],
   "source": [
    "#keičiamas max_iter (maksimalus paieškos iteracijų skaičius (-1 – neribota))\n",
    "#max_iter = [1500, 2000, 2500, 3000, 3500, 4000, 4500, 5000, 5500, 6000, 6500, 7000, 7500, -1]\n",
    "max_iter = [100, 200, 300, 400, 500, 600, 700, 800, 900, 1000, 1100, 1200, 1300, 1400, 1500, -1]\n",
    "svc_rez_par8 = {}\n",
    "for i in max_iter:\n",
    "    SK_svc_ = SVC(C = 1.63, max_iter = i, random_state = 333)\n",
    "    scores = cross_val_score(SK_svc_, X, y, cv = 2)\n",
    "    svc_rez_par8[i] = scores.mean()\n",
    "    print(str(i) + \": \" + str(scores.mean()))\n",
    "print(\"svc max_iter baigta\")"
   ]
  },
  {
   "cell_type": "code",
   "execution_count": null,
   "id": "7408c053-7923-488a-b2c8-46b0aa0804e7",
   "metadata": {},
   "outputs": [],
   "source": [
    "tmp = pd.DataFrame.from_dict(data = svc_rez_par8, orient = 'index')\n",
    "tmp.loc[tmp[0] == tmp[0].max()]"
   ]
  },
  {
   "cell_type": "code",
   "execution_count": null,
   "id": "431202ab-6925-4a4d-9254-dba10f97b114",
   "metadata": {
    "tags": []
   },
   "outputs": [],
   "source": [
    "#keičiamas decision_function_shape (palyginimo forma)\n",
    "decision_function_shape = ['ovo', 'ovr']\n",
    "svc_rez_par9 = {}\n",
    "for i in decision_function_shape:\n",
    "    SK_svc_ = SVC(C = 1.63, decision_function_shape = i, random_state = 333)\n",
    "    scores = cross_val_score(SK_svc_, X, y)\n",
    "    svc_rez_par9[i] = scores.mean()\n",
    "    print(str(i) + \": \" + str(scores.mean()))\n",
    "print(\"svc decision_function_shape baigta\")"
   ]
  },
  {
   "cell_type": "code",
   "execution_count": null,
   "id": "385d285c-ed0f-4126-9bf7-69b15de012d1",
   "metadata": {},
   "outputs": [],
   "source": [
    "tmp = pd.DataFrame.from_dict(data = svc_rez_par9, orient = 'index')\n",
    "tmp.loc[tmp[0] == tmp[0].max()]"
   ]
  },
  {
   "cell_type": "code",
   "execution_count": null,
   "id": "ec1e87f6-2392-4865-9259-113e68a64f6f",
   "metadata": {
    "tags": []
   },
   "outputs": [],
   "source": [
    "#keičiamas break_ties (jei decision_function_shape = 'ovr' ir klasių sk. > 2, ar pamiršti atmestus kandidatus (intensyviai naudoja resursus))\n",
    "break_ties = [True, False]\n",
    "svc_rez_par10 = {}\n",
    "for i in break_ties:\n",
    "    SK_svc_ = SVC(C = 1.63, random_state = 333)\n",
    "    scores = cross_val_score(SK_svc_, X, y)\n",
    "    svc_rez_par10[i] = scores.mean()\n",
    "    print(str(i) + \": \" + str(scores.mean()))\n",
    "print(\"svc break_ties baigta\")"
   ]
  },
  {
   "cell_type": "code",
   "execution_count": null,
   "id": "8b91e61b-c9c0-4fe2-846f-e2655061679d",
   "metadata": {},
   "outputs": [],
   "source": [
    "tmp = pd.DataFrame.from_dict(data = svc_rez_par10, orient = 'index')\n",
    "tmp.loc[tmp[0] == tmp[0].max()]"
   ]
  },
  {
   "cell_type": "markdown",
   "id": "9cc25a60-0fec-4cd9-9a4c-a64190a02140",
   "metadata": {
    "jp-MarkdownHeadingCollapsed": true,
    "tags": []
   },
   "source": [
    "<h3>Trečias raundas</h3>\n",
    "C = 1,63\n",
    "tol = 0,008"
   ]
  },
  {
   "cell_type": "code",
   "execution_count": null,
   "id": "e3550502-72b3-4426-afc3-5496e8dfa5b9",
   "metadata": {
    "tags": []
   },
   "outputs": [],
   "source": [
    "#keičiamas kernel (funkcijos branduolys)\n",
    "kernel = ['linear', 'poly', 'rbf', 'sigmoid']\n",
    "svc_rez_par2 = {}\n",
    "for i in kernel:\n",
    "    SK_svc_ = SVC(C = 1.63, tol = 0.008, kernel = i, random_state = 333)\n",
    "    scores = cross_val_score(SK_svc_, X, y)\n",
    "    svc_rez_par2[i] = scores.mean()\n",
    "    print(str(i) + \": \" + str(scores.mean()))\n",
    "print(\"svc kernel baigta\")"
   ]
  },
  {
   "cell_type": "code",
   "execution_count": null,
   "id": "e794fa9a-7f00-41e5-9455-26417555dc40",
   "metadata": {},
   "outputs": [],
   "source": [
    "tmp = pd.DataFrame.from_dict(data = svc_rez_par2, orient = 'index')\n",
    "tmp.loc[tmp[0] == tmp[0].max()]"
   ]
  },
  {
   "cell_type": "code",
   "execution_count": null,
   "id": "da7437d0-0052-4f91-a5e7-e527e69d8ae8",
   "metadata": {
    "tags": []
   },
   "outputs": [],
   "source": [
    "#keičiamas shrinking (suspaudimas?)\n",
    "shrinking = [True, False]\n",
    "svc_rez_par3 = {}\n",
    "for i in shrinking:\n",
    "    SK_svc_ = SVC(C = 1.63, tol = 0.008, shrinking = i, random_state = 333)\n",
    "    scores = cross_val_score(SK_svc_, X, y)\n",
    "    svc_rez_par3[i] = scores.mean()\n",
    "    print(str(i) + \": \" + str(scores.mean()))\n",
    "print(\"svc shrinking baigta\")"
   ]
  },
  {
   "cell_type": "code",
   "execution_count": null,
   "id": "c1d0027a-58b9-45fd-bf08-a62d016b59e0",
   "metadata": {},
   "outputs": [],
   "source": [
    "tmp = pd.DataFrame.from_dict(data = svc_rez_par3, orient = 'index')\n",
    "tmp.loc[tmp[0] == tmp[0].max()]"
   ]
  },
  {
   "cell_type": "code",
   "execution_count": null,
   "id": "e531b558-0390-47c3-983b-9745267a2b8f",
   "metadata": {
    "tags": []
   },
   "outputs": [],
   "source": [
    "#keičiamas probability (ar apskaičiuoti tikimybes (gali būti lėtas))\n",
    "probability = [True, False]\n",
    "svc_rez_par4 = {}\n",
    "for i in probability:\n",
    "    SK_svc_ = SVC(C = 1.63, tol = 0.008, probability = i, random_state = 333)\n",
    "    scores = cross_val_score(SK_svc_, X, y, cv = 2)\n",
    "    svc_rez_par4[i] = scores.mean()\n",
    "    print(str(i) + \": \" + str(scores.mean()))\n",
    "print(\"svc probability baigta\")"
   ]
  },
  {
   "cell_type": "code",
   "execution_count": null,
   "id": "4b2c19b9-2eed-4043-b992-3e8980f17a24",
   "metadata": {},
   "outputs": [],
   "source": [
    "tmp = pd.DataFrame.from_dict(data = svc_rez_par4, orient = 'index')\n",
    "tmp.loc[tmp[0] == tmp[0].max()]"
   ]
  },
  {
   "cell_type": "code",
   "execution_count": null,
   "id": "9153350d-e14d-4f6c-be0f-adf14b2e97ba",
   "metadata": {
    "tags": []
   },
   "outputs": [],
   "source": [
    "#keičiamas class_weight (klasių svoriai)\n",
    "class_weight = [None, 'balanced']\n",
    "svc_rez_par7 = {}\n",
    "for i in class_weight:\n",
    "    SK_svc_ = SVC(C = 1.63, tol = 0.008, class_weight = i, random_state = 333)\n",
    "    scores = cross_val_score(SK_svc_, X, y)\n",
    "    svc_rez_par7[i] = scores.mean()\n",
    "    print(str(i) + \": \" + str(scores.mean()))\n",
    "print(\"svc class_weight baigta\")"
   ]
  },
  {
   "cell_type": "code",
   "execution_count": null,
   "id": "de3669e1-c50d-47a9-baf1-9a97ad5dd332",
   "metadata": {},
   "outputs": [],
   "source": [
    "tmp = pd.DataFrame.from_dict(data = svc_rez_par7, orient = 'index')\n",
    "tmp.loc[tmp[0] == tmp[0].max()]"
   ]
  },
  {
   "cell_type": "code",
   "execution_count": null,
   "id": "731f95df-aee3-48a5-bacb-926e1b56a9ed",
   "metadata": {
    "tags": []
   },
   "outputs": [],
   "source": [
    "#keičiamas max_iter (maksimalus paieškos iteracijų skaičius (-1 – neribota))\n",
    "#max_iter = [1500, 2000, 2500, 3000, 3500, 4000, 4500, 5000, 5500, 6000, 6500, 7000, 7500, -1]\n",
    "max_iter = [100, 200, 300, 400, 500, 600, 700, 800, 900, 1000, 1100, 1200, 1300, 1400, 1500, -1]\n",
    "svc_rez_par8 = {}\n",
    "for i in max_iter:\n",
    "    SK_svc_ = SVC(C = 1.63, tol = 0.008, max_iter = i, random_state = 333)\n",
    "    scores = cross_val_score(SK_svc_, X, y, cv = 2)\n",
    "    svc_rez_par8[i] = scores.mean()\n",
    "    print(str(i) + \": \" + str(scores.mean()))\n",
    "print(\"svc max_iter baigta\")"
   ]
  },
  {
   "cell_type": "code",
   "execution_count": null,
   "id": "2843adb4-3aca-426b-b0f6-b1e92375a2cd",
   "metadata": {},
   "outputs": [],
   "source": [
    "tmp = pd.DataFrame.from_dict(data = svc_rez_par8, orient = 'index')\n",
    "tmp.loc[tmp[0] == tmp[0].max()]"
   ]
  },
  {
   "cell_type": "code",
   "execution_count": null,
   "id": "8772ca6e-2542-419c-ac64-b10ddc5deb29",
   "metadata": {
    "tags": []
   },
   "outputs": [],
   "source": [
    "#keičiamas decision_function_shape (palyginimo forma)\n",
    "decision_function_shape = ['ovo', 'ovr']\n",
    "svc_rez_par9 = {}\n",
    "for i in decision_function_shape:\n",
    "    SK_svc_ = SVC(C = 1.63, tol = 0.008, decision_function_shape = i, random_state = 333)\n",
    "    scores = cross_val_score(SK_svc_, X, y)\n",
    "    svc_rez_par9[i] = scores.mean()\n",
    "    print(str(i) + \": \" + str(scores.mean()))\n",
    "print(\"svc decision_function_shape baigta\")"
   ]
  },
  {
   "cell_type": "code",
   "execution_count": null,
   "id": "40cd02db-5014-4210-a026-80e870118562",
   "metadata": {},
   "outputs": [],
   "source": [
    "tmp = pd.DataFrame.from_dict(data = svc_rez_par9, orient = 'index')\n",
    "tmp.loc[tmp[0] == tmp[0].max()]"
   ]
  },
  {
   "cell_type": "code",
   "execution_count": null,
   "id": "5873d05e-94f6-46c5-a6c7-c03c0900f729",
   "metadata": {
    "tags": []
   },
   "outputs": [],
   "source": [
    "#keičiamas break_ties (jei decision_function_shape = 'ovr' ir klasių sk. > 2, ar pamiršti atmestus kandidatus (intensyviai naudoja resursus))\n",
    "break_ties = [True, False]\n",
    "svc_rez_par10 = {}\n",
    "for i in break_ties:\n",
    "    SK_svc_ = SVC(C = 1.63, tol = 0.008, random_state = 333)\n",
    "    scores = cross_val_score(SK_svc_, X, y)\n",
    "    svc_rez_par10[i] = scores.mean()\n",
    "    print(str(i) + \": \" + str(scores.mean()))\n",
    "print(\"svc break_ties baigta\")"
   ]
  },
  {
   "cell_type": "code",
   "execution_count": null,
   "id": "65ce479d-a645-42a0-9027-213674223ed4",
   "metadata": {},
   "outputs": [],
   "source": [
    "tmp = pd.DataFrame.from_dict(data = svc_rez_par10, orient = 'index')\n",
    "tmp.loc[tmp[0] == tmp[0].max()]"
   ]
  },
  {
   "cell_type": "markdown",
   "id": "76b5b2c1-79e0-4590-9c1b-a551b814f959",
   "metadata": {
    "jp-MarkdownHeadingCollapsed": true,
    "tags": []
   },
   "source": [
    "<h3>Ketvirtas raundas</h3>\n",
    "C = 1,63\n",
    "tol = 0,008\n",
    "max_iter = -1"
   ]
  },
  {
   "cell_type": "code",
   "execution_count": null,
   "id": "9f6d48c3-dedb-49da-b80d-33b872d5c469",
   "metadata": {
    "tags": []
   },
   "outputs": [],
   "source": [
    "#keičiamas kernel (funkcijos branduolys)\n",
    "kernel = ['linear', 'poly', 'rbf', 'sigmoid']\n",
    "svc_rez_par2 = {}\n",
    "for i in kernel:\n",
    "    SK_svc_ = SVC(C = 1.63, tol = 0.008, max_iter = -1, kernel = i, random_state = 333)\n",
    "    scores = cross_val_score(SK_svc_, X, y)\n",
    "    svc_rez_par2[i] = scores.mean()\n",
    "    print(str(i) + \": \" + str(scores.mean()))\n",
    "print(\"svc kernel baigta\")"
   ]
  },
  {
   "cell_type": "code",
   "execution_count": null,
   "id": "49514f9b-eed5-4dae-b4bd-7bad53714c40",
   "metadata": {
    "tags": []
   },
   "outputs": [],
   "source": [
    "tmp = pd.DataFrame.from_dict(data = svc_rez_par2, orient = 'index')\n",
    "tmp.loc[tmp[0] == tmp[0].max()]"
   ]
  },
  {
   "cell_type": "code",
   "execution_count": null,
   "id": "e89d9821-b99b-4659-a06b-5a0a58cb78f0",
   "metadata": {
    "tags": []
   },
   "outputs": [],
   "source": [
    "#keičiamas shrinking (suspaudimas?)\n",
    "shrinking = [True, False]\n",
    "svc_rez_par3 = {}\n",
    "for i in shrinking:\n",
    "    SK_svc_ = SVC(C = 1.63, tol = 0.008, max_iter = -1, shrinking = i, random_state = 333)\n",
    "    scores = cross_val_score(SK_svc_, X, y)\n",
    "    svc_rez_par3[i] = scores.mean()\n",
    "    print(str(i) + \": \" + str(scores.mean()))\n",
    "print(\"svc shrinking baigta\")"
   ]
  },
  {
   "cell_type": "code",
   "execution_count": null,
   "id": "1ec20b1d-d6a1-4cb6-969d-888ba0fdebd0",
   "metadata": {},
   "outputs": [],
   "source": [
    "tmp = pd.DataFrame.from_dict(data = svc_rez_par3, orient = 'index')\n",
    "tmp.loc[tmp[0] == tmp[0].max()]"
   ]
  },
  {
   "cell_type": "code",
   "execution_count": null,
   "id": "5c4d6bbc-e781-415d-bb6a-d9cb7d596e35",
   "metadata": {
    "tags": []
   },
   "outputs": [],
   "source": [
    "#keičiamas probability (ar apskaičiuoti tikimybes (gali būti lėtas))\n",
    "probability = [True, False]\n",
    "svc_rez_par4 = {}\n",
    "for i in probability:\n",
    "    SK_svc_ = SVC(C = 1.63, tol = 0.008, max_iter = -1, probability = i, random_state = 333)\n",
    "    scores = cross_val_score(SK_svc_, X, y, cv = 2)\n",
    "    svc_rez_par4[i] = scores.mean()\n",
    "    print(str(i) + \": \" + str(scores.mean()))\n",
    "print(\"svc probability baigta\")"
   ]
  },
  {
   "cell_type": "code",
   "execution_count": null,
   "id": "69fa97ee-4a4d-4cf2-873a-b7a22b8d00fc",
   "metadata": {},
   "outputs": [],
   "source": [
    "tmp = pd.DataFrame.from_dict(data = svc_rez_par4, orient = 'index')\n",
    "tmp.loc[tmp[0] == tmp[0].max()]"
   ]
  },
  {
   "cell_type": "code",
   "execution_count": null,
   "id": "277007c5-4b39-4c18-83b0-7a71184ef9e7",
   "metadata": {
    "tags": []
   },
   "outputs": [],
   "source": [
    "#keičiamas class_weight (klasių svoriai)\n",
    "class_weight = [None, 'balanced']\n",
    "svc_rez_par7 = {}\n",
    "for i in class_weight:\n",
    "    SK_svc_ = SVC(C = 1.63, tol = 0.008, max_iter = -1, class_weight = i, random_state = 333)\n",
    "    scores = cross_val_score(SK_svc_, X, y)\n",
    "    svc_rez_par7[i] = scores.mean()\n",
    "    print(str(i) + \": \" + str(scores.mean()))\n",
    "print(\"svc class_weight baigta\")"
   ]
  },
  {
   "cell_type": "code",
   "execution_count": null,
   "id": "ac4dc4a5-6511-400a-ae32-0b39e1eae328",
   "metadata": {},
   "outputs": [],
   "source": [
    "tmp = pd.DataFrame.from_dict(data = svc_rez_par7, orient = 'index')\n",
    "tmp.loc[tmp[0] == tmp[0].max()]"
   ]
  },
  {
   "cell_type": "code",
   "execution_count": null,
   "id": "73aa2e6b-7770-469f-ba9d-3f01b3a6cf7d",
   "metadata": {
    "tags": []
   },
   "outputs": [],
   "source": [
    "#keičiamas decision_function_shape (palyginimo forma)\n",
    "decision_function_shape = ['ovo', 'ovr']\n",
    "svc_rez_par9 = {}\n",
    "for i in decision_function_shape:\n",
    "    SK_svc_ = SVC(C = 1.63, tol = 0.008, max_iter = -1, decision_function_shape = i, random_state = 333)\n",
    "    scores = cross_val_score(SK_svc_, X, y)\n",
    "    svc_rez_par9[i] = scores.mean()\n",
    "    print(str(i) + \": \" + str(scores.mean()))\n",
    "print(\"svc decision_function_shape baigta\")"
   ]
  },
  {
   "cell_type": "code",
   "execution_count": null,
   "id": "1ea3f2d2-7723-4aba-967f-931b7c2a6aaf",
   "metadata": {},
   "outputs": [],
   "source": [
    "tmp = pd.DataFrame.from_dict(data = svc_rez_par9, orient = 'index')\n",
    "tmp.loc[tmp[0] == tmp[0].max()]"
   ]
  },
  {
   "cell_type": "code",
   "execution_count": null,
   "id": "d3b2cf79-0477-4be3-af02-7238918757a4",
   "metadata": {
    "tags": []
   },
   "outputs": [],
   "source": [
    "#keičiamas break_ties (jei decision_function_shape = 'ovr' ir klasių sk. > 2, ar pamiršti atmestus kandidatus (intensyviai naudoja resursus))\n",
    "break_ties = [True, False]\n",
    "svc_rez_par10 = {}\n",
    "for i in break_ties:\n",
    "    SK_svc_ = SVC(C = 1.63, tol = 0.008, max_iter = -1, random_state = 333)\n",
    "    scores = cross_val_score(SK_svc_, X, y)\n",
    "    svc_rez_par10[i] = scores.mean()\n",
    "    print(str(i) + \": \" + str(scores.mean()))\n",
    "print(\"svc break_ties baigta\")"
   ]
  },
  {
   "cell_type": "code",
   "execution_count": null,
   "id": "83ae64eb-69c8-4478-bed2-faa0e9fb67c7",
   "metadata": {},
   "outputs": [],
   "source": [
    "tmp = pd.DataFrame.from_dict(data = svc_rez_par10, orient = 'index')\n",
    "tmp.loc[tmp[0] == tmp[0].max()]"
   ]
  },
  {
   "cell_type": "markdown",
   "id": "4bab203e-def9-4c81-a88d-25e10789bd1e",
   "metadata": {
    "jp-MarkdownHeadingCollapsed": true,
    "tags": []
   },
   "source": [
    "<h3>Penktas raundas</h3>\n",
    "C = 1,63\n",
    "tol = 0,008\n",
    "max_iter = -1\n",
    "kernel = 'rbf'"
   ]
  },
  {
   "cell_type": "code",
   "execution_count": null,
   "id": "7ab76b7e-17e6-44e5-b290-40032dfc40cd",
   "metadata": {
    "tags": []
   },
   "outputs": [],
   "source": [
    "#keičiamas shrinking (suspaudimas?)\n",
    "shrinking = [True, False]\n",
    "svc_rez_par3 = {}\n",
    "for i in shrinking:\n",
    "    SK_svc_ = SVC(C = 1.63, tol = 0.008, max_iter = -1, kernel = 'rbf', shrinking = i, random_state = 333)\n",
    "    scores = cross_val_score(SK_svc_, X, y)\n",
    "    svc_rez_par3[i] = scores.mean()\n",
    "    print(str(i) + \": \" + str(scores.mean()))\n",
    "print(\"svc shrinking baigta\")"
   ]
  },
  {
   "cell_type": "code",
   "execution_count": null,
   "id": "bff211ef-a497-4e67-a69a-6c275f7cb369",
   "metadata": {},
   "outputs": [],
   "source": [
    "tmp = pd.DataFrame.from_dict(data = svc_rez_par3, orient = 'index')\n",
    "tmp.loc[tmp[0] == tmp[0].max()]"
   ]
  },
  {
   "cell_type": "code",
   "execution_count": null,
   "id": "6c240f5b-59a7-460f-a15d-f82ebc907b3d",
   "metadata": {
    "tags": []
   },
   "outputs": [],
   "source": [
    "#keičiamas probability (ar apskaičiuoti tikimybes (gali būti lėtas))\n",
    "probability = [True, False]\n",
    "svc_rez_par4 = {}\n",
    "for i in probability:\n",
    "    SK_svc_ = SVC(C = 1.63, tol = 0.008, max_iter = -1, kernel = 'rbf', probability = i, random_state = 333)\n",
    "    scores = cross_val_score(SK_svc_, X, y, cv = 2)\n",
    "    svc_rez_par4[i] = scores.mean()\n",
    "    print(str(i) + \": \" + str(scores.mean()))\n",
    "print(\"svc probability baigta\")"
   ]
  },
  {
   "cell_type": "code",
   "execution_count": null,
   "id": "43a5b32f-4641-434e-818c-cbee267aeb3e",
   "metadata": {},
   "outputs": [],
   "source": [
    "tmp = pd.DataFrame.from_dict(data = svc_rez_par4, orient = 'index')\n",
    "tmp.loc[tmp[0] == tmp[0].max()]"
   ]
  },
  {
   "cell_type": "code",
   "execution_count": null,
   "id": "5a9f389b-57ba-4ae7-9fba-1f8643bedeb8",
   "metadata": {
    "tags": []
   },
   "outputs": [],
   "source": [
    "#keičiamas class_weight (klasių svoriai)\n",
    "class_weight = [None, 'balanced']\n",
    "svc_rez_par7 = {}\n",
    "for i in class_weight:\n",
    "    SK_svc_ = SVC(C = 1.63, tol = 0.008, max_iter = -1, kernel = 'rbf', class_weight = i, random_state = 333)\n",
    "    scores = cross_val_score(SK_svc_, X, y)\n",
    "    svc_rez_par7[i] = scores.mean()\n",
    "    print(str(i) + \": \" + str(scores.mean()))\n",
    "print(\"svc class_weight baigta\")"
   ]
  },
  {
   "cell_type": "code",
   "execution_count": null,
   "id": "40f5e3b4-50f5-4a79-b61c-67ca1e8b626e",
   "metadata": {},
   "outputs": [],
   "source": [
    "tmp = pd.DataFrame.from_dict(data = svc_rez_par7, orient = 'index')\n",
    "tmp.loc[tmp[0] == tmp[0].max()]"
   ]
  },
  {
   "cell_type": "code",
   "execution_count": null,
   "id": "94f4c314-5eed-43a2-8f33-ed76c2e708ff",
   "metadata": {
    "tags": []
   },
   "outputs": [],
   "source": [
    "#keičiamas decision_function_shape (palyginimo forma)\n",
    "decision_function_shape = ['ovo', 'ovr']\n",
    "svc_rez_par9 = {}\n",
    "for i in decision_function_shape:\n",
    "    SK_svc_ = SVC(C = 1.63, tol = 0.008, max_iter = -1, kernel = 'rbf', decision_function_shape = i, random_state = 333)\n",
    "    scores = cross_val_score(SK_svc_, X, y)\n",
    "    svc_rez_par9[i] = scores.mean()\n",
    "    print(str(i) + \": \" + str(scores.mean()))\n",
    "print(\"svc decision_function_shape baigta\")"
   ]
  },
  {
   "cell_type": "code",
   "execution_count": null,
   "id": "853f004e-874c-4ddf-a728-6c3b5a0f39b9",
   "metadata": {},
   "outputs": [],
   "source": [
    "tmp = pd.DataFrame.from_dict(data = svc_rez_par9, orient = 'index')\n",
    "tmp.loc[tmp[0] == tmp[0].max()]"
   ]
  },
  {
   "cell_type": "code",
   "execution_count": null,
   "id": "dee87cb6-87d4-4de2-8ae9-c2c414476d90",
   "metadata": {
    "tags": []
   },
   "outputs": [],
   "source": [
    "#keičiamas break_ties (jei decision_function_shape = 'ovr' ir klasių sk. > 2, ar pamiršti atmestus kandidatus (intensyviai naudoja resursus))\n",
    "break_ties = [True, False]\n",
    "svc_rez_par10 = {}\n",
    "for i in break_ties:\n",
    "    SK_svc_ = SVC(C = 1.63, tol = 0.008, max_iter = -1, kernel = 'rbf', random_state = 333)\n",
    "    scores = cross_val_score(SK_svc_, X, y)\n",
    "    svc_rez_par10[i] = scores.mean()\n",
    "    print(str(i) + \": \" + str(scores.mean()))\n",
    "print(\"svc break_ties baigta\")"
   ]
  },
  {
   "cell_type": "code",
   "execution_count": null,
   "id": "34dd741a-7dff-4449-8d95-566144619890",
   "metadata": {},
   "outputs": [],
   "source": [
    "tmp = pd.DataFrame.from_dict(data = svc_rez_par10, orient = 'index')\n",
    "tmp.loc[tmp[0] == tmp[0].max()]"
   ]
  },
  {
   "cell_type": "markdown",
   "id": "796f44df-42fc-451e-8313-c0b8f097d62b",
   "metadata": {},
   "source": [
    "<h3>Galutinis SVC</h3>"
   ]
  },
  {
   "cell_type": "code",
   "execution_count": null,
   "id": "9dc0cf9b-d4a5-4b15-b306-2c78262b0170",
   "metadata": {},
   "outputs": [],
   "source": [
    "SK_svc_ = SVC(C = 1.63, tol = 0.008, max_iter = -1, kernel = 'rbf', class_weight = None, random_state = 333)\n",
    "SK_svc_.fit(X, y)\n",
    "y_svc_ = SK_svc_.predict(X_)\n",
    "metrics.accuracy_score(y_zinomi, y_svc_)"
   ]
  }
 ],
 "metadata": {
  "kernelspec": {
   "display_name": "Python 3 (ipykernel)",
   "language": "python",
   "name": "python3"
  },
  "language_info": {
   "codemirror_mode": {
    "name": "ipython",
    "version": 3
   },
   "file_extension": ".py",
   "mimetype": "text/x-python",
   "name": "python",
   "nbconvert_exporter": "python",
   "pygments_lexer": "ipython3",
   "version": "3.8.8"
  }
 },
 "nbformat": 4,
 "nbformat_minor": 5
}
